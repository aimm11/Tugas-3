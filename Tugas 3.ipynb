{
 "cells": [
  {
   "cell_type": "code",
   "execution_count": 10,
   "id": "38013522",
   "metadata": {},
   "outputs": [
    {
     "name": "stdout",
     "output_type": "stream",
     "text": [
      "nama_lengkap : Ahmad Ibrahim Maqbul\n",
      "kelas: TI22E\n",
      "jurusan: Teknik Informatika\n",
      "quote: Hidup yang singkat selalu memilih kebahagiaan.\n"
     ]
    }
   ],
   "source": [
    "nama_lengkap = 'Ahmad Ibrahim Maqbul'\n",
    "kelas = 'TI22E'\n",
    "jurusan = 'Teknik Informatika'\n",
    "quote = 'Hidup yang singkat selalu memilih kebahagiaan.'\n",
    "\n",
    "print ('nama_lengkap :', nama_lengkap)\n",
    "print ('kelas:', kelas)\n",
    "print ('jurusan:', jurusan)\n",
    "print ('quote:', quote)"
   ]
  }
 ],
 "metadata": {
  "kernelspec": {
   "display_name": "Python 3 (ipykernel)",
   "language": "python",
   "name": "python3"
  },
  "language_info": {
   "codemirror_mode": {
    "name": "ipython",
    "version": 3
   },
   "file_extension": ".py",
   "mimetype": "text/x-python",
   "name": "python",
   "nbconvert_exporter": "python",
   "pygments_lexer": "ipython3",
   "version": "3.9.12"
  }
 },
 "nbformat": 4,
 "nbformat_minor": 5
}
